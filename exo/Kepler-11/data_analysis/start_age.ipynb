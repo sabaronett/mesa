{
 "cells": [
  {
   "cell_type": "code",
   "execution_count": 1,
   "metadata": {},
   "outputs": [],
   "source": [
    "import numpy as np\n",
    "import matplotlib.pyplot as plt\n",
    "import mesa_reader as mr\n",
    "\n",
    "# =============================================================================\n",
    "# Import MESA history.data using PyMesaReader\n",
    "# =============================================================================\n",
    "# Make MesaData objects from a history files\n",
    "h1 = mr.MesaData('LOGS/history_to_end_agb.data')\n",
    "h2 = mr.MesaData('LOGS/history_to_wd.data')\n",
    "\n",
    "# SOLAR AGE DATA (measured in years)\n",
    "a = np.array([]) \n",
    "a1 = h1.star_age\n",
    "a2 = h2.star_age\n",
    "\n",
    "# SOLAR MASS DATA (measured in Msun units)\n",
    "m = np.array([]) \n",
    "m1 = h1.star_mass\n",
    "m2 = h2.star_mass"
   ]
  },
  {
   "cell_type": "code",
   "execution_count": null,
   "metadata": {},
   "outputs": [],
   "source": []
  }
 ],
 "metadata": {
  "kernelspec": {
   "display_name": "Python 3",
   "language": "python",
   "name": "python3"
  },
  "language_info": {
   "codemirror_mode": {
    "name": "ipython",
    "version": 3
   },
   "file_extension": ".py",
   "mimetype": "text/x-python",
   "name": "python",
   "nbconvert_exporter": "python",
   "pygments_lexer": "ipython3",
   "version": "3.7.3"
  }
 },
 "nbformat": 4,
 "nbformat_minor": 4
}
